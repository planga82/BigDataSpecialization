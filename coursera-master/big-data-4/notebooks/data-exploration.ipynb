{
 "cells": [
  {
   "cell_type": "code",
   "execution_count": 1,
   "metadata": {
    "collapsed": true
   },
   "outputs": [],
   "source": [
    "from pyspark.sql import SQLContext"
   ]
  },
  {
   "cell_type": "code",
   "execution_count": 2,
   "metadata": {
    "collapsed": true
   },
   "outputs": [],
   "source": [
    "sqlContext = SQLContext(sc)"
   ]
  },
  {
   "cell_type": "code",
   "execution_count": 3,
   "metadata": {
    "collapsed": true
   },
   "outputs": [],
   "source": [
    "df = sqlContext.read.load('file:///home/cloudera/Downloads/big-data-4/daily_weather.csv', \n",
    "                          format='com.databricks.spark.csv', \n",
    "                          header='true',inferSchema='true')"
   ]
  },
  {
   "cell_type": "code",
   "execution_count": 4,
   "metadata": {
    "collapsed": false
   },
   "outputs": [
    {
     "data": {
      "text/plain": [
       "['number',\n",
       " 'air_pressure_9am',\n",
       " 'air_temp_9am',\n",
       " 'avg_wind_direction_9am',\n",
       " 'avg_wind_speed_9am',\n",
       " 'max_wind_direction_9am',\n",
       " 'max_wind_speed_9am',\n",
       " 'rain_accumulation_9am',\n",
       " 'rain_duration_9am',\n",
       " 'relative_humidity_9am',\n",
       " 'relative_humidity_3pm']"
      ]
     },
     "execution_count": 4,
     "metadata": {},
     "output_type": "execute_result"
    }
   ],
   "source": [
    "df.columns"
   ]
  },
  {
   "cell_type": "code",
   "execution_count": 5,
   "metadata": {
    "collapsed": false
   },
   "outputs": [
    {
     "name": "stdout",
     "output_type": "stream",
     "text": [
      "root\n",
      " |-- number: integer (nullable = true)\n",
      " |-- air_pressure_9am: double (nullable = true)\n",
      " |-- air_temp_9am: double (nullable = true)\n",
      " |-- avg_wind_direction_9am: double (nullable = true)\n",
      " |-- avg_wind_speed_9am: double (nullable = true)\n",
      " |-- max_wind_direction_9am: double (nullable = true)\n",
      " |-- max_wind_speed_9am: double (nullable = true)\n",
      " |-- rain_accumulation_9am: double (nullable = true)\n",
      " |-- rain_duration_9am: double (nullable = true)\n",
      " |-- relative_humidity_9am: double (nullable = true)\n",
      " |-- relative_humidity_3pm: double (nullable = true)\n",
      "\n"
     ]
    }
   ],
   "source": [
    "df.printSchema()"
   ]
  },
  {
   "cell_type": "code",
   "execution_count": 6,
   "metadata": {
    "collapsed": false
   },
   "outputs": [
    {
     "data": {
      "text/html": [
       "<div>\n",
       "<table border=\"1\" class=\"dataframe\">\n",
       "  <thead>\n",
       "    <tr style=\"text-align: right;\">\n",
       "      <th></th>\n",
       "      <th>0</th>\n",
       "      <th>1</th>\n",
       "      <th>2</th>\n",
       "      <th>3</th>\n",
       "      <th>4</th>\n",
       "    </tr>\n",
       "  </thead>\n",
       "  <tbody>\n",
       "    <tr>\n",
       "      <th>summary</th>\n",
       "      <td>count</td>\n",
       "      <td>mean</td>\n",
       "      <td>stddev</td>\n",
       "      <td>min</td>\n",
       "      <td>max</td>\n",
       "    </tr>\n",
       "    <tr>\n",
       "      <th>number</th>\n",
       "      <td>1095</td>\n",
       "      <td>547.0</td>\n",
       "      <td>316.24357700987383</td>\n",
       "      <td>0</td>\n",
       "      <td>1094</td>\n",
       "    </tr>\n",
       "    <tr>\n",
       "      <th>air_pressure_9am</th>\n",
       "      <td>1092</td>\n",
       "      <td>918.8825513138097</td>\n",
       "      <td>3.1841611803868353</td>\n",
       "      <td>907.9900000000024</td>\n",
       "      <td>929.3200000000012</td>\n",
       "    </tr>\n",
       "    <tr>\n",
       "      <th>air_temp_9am</th>\n",
       "      <td>1090</td>\n",
       "      <td>64.93300141287075</td>\n",
       "      <td>11.175514003175877</td>\n",
       "      <td>36.752000000000685</td>\n",
       "      <td>98.90599999999992</td>\n",
       "    </tr>\n",
       "    <tr>\n",
       "      <th>avg_wind_direction_9am</th>\n",
       "      <td>1091</td>\n",
       "      <td>142.23551070057584</td>\n",
       "      <td>69.13785928889183</td>\n",
       "      <td>15.500000000000046</td>\n",
       "      <td>343.4</td>\n",
       "    </tr>\n",
       "    <tr>\n",
       "      <th>avg_wind_speed_9am</th>\n",
       "      <td>1092</td>\n",
       "      <td>5.50828424225493</td>\n",
       "      <td>4.552813465531715</td>\n",
       "      <td>0.69345139999974</td>\n",
       "      <td>23.554978199999763</td>\n",
       "    </tr>\n",
       "    <tr>\n",
       "      <th>max_wind_direction_9am</th>\n",
       "      <td>1092</td>\n",
       "      <td>148.9535179651692</td>\n",
       "      <td>67.23801294602951</td>\n",
       "      <td>28.89999999999991</td>\n",
       "      <td>312.19999999999993</td>\n",
       "    </tr>\n",
       "    <tr>\n",
       "      <th>max_wind_speed_9am</th>\n",
       "      <td>1091</td>\n",
       "      <td>7.019513529175272</td>\n",
       "      <td>5.59820917078096</td>\n",
       "      <td>1.1855782000000479</td>\n",
       "      <td>29.84077959999996</td>\n",
       "    </tr>\n",
       "    <tr>\n",
       "      <th>rain_accumulation_9am</th>\n",
       "      <td>1089</td>\n",
       "      <td>0.20307895225211126</td>\n",
       "      <td>1.5939521253574904</td>\n",
       "      <td>0.0</td>\n",
       "      <td>24.01999999999907</td>\n",
       "    </tr>\n",
       "    <tr>\n",
       "      <th>rain_duration_9am</th>\n",
       "      <td>1092</td>\n",
       "      <td>294.1080522756142</td>\n",
       "      <td>1598.078778660148</td>\n",
       "      <td>0.0</td>\n",
       "      <td>17704.0</td>\n",
       "    </tr>\n",
       "    <tr>\n",
       "      <th>relative_humidity_9am</th>\n",
       "      <td>1095</td>\n",
       "      <td>34.24140205923539</td>\n",
       "      <td>25.472066802250044</td>\n",
       "      <td>6.090000000001012</td>\n",
       "      <td>92.6200000000002</td>\n",
       "    </tr>\n",
       "    <tr>\n",
       "      <th>relative_humidity_3pm</th>\n",
       "      <td>1095</td>\n",
       "      <td>35.34472714825902</td>\n",
       "      <td>22.52407945358728</td>\n",
       "      <td>5.3000000000006855</td>\n",
       "      <td>92.2500000000003</td>\n",
       "    </tr>\n",
       "  </tbody>\n",
       "</table>\n",
       "</div>"
      ],
      "text/plain": [
       "                            0                    1                   2  \\\n",
       "summary                 count                 mean              stddev   \n",
       "number                   1095                547.0  316.24357700987383   \n",
       "air_pressure_9am         1092    918.8825513138097  3.1841611803868353   \n",
       "air_temp_9am             1090    64.93300141287075  11.175514003175877   \n",
       "avg_wind_direction_9am   1091   142.23551070057584   69.13785928889183   \n",
       "avg_wind_speed_9am       1092     5.50828424225493   4.552813465531715   \n",
       "max_wind_direction_9am   1092    148.9535179651692   67.23801294602951   \n",
       "max_wind_speed_9am       1091    7.019513529175272    5.59820917078096   \n",
       "rain_accumulation_9am    1089  0.20307895225211126  1.5939521253574904   \n",
       "rain_duration_9am        1092    294.1080522756142   1598.078778660148   \n",
       "relative_humidity_9am    1095    34.24140205923539  25.472066802250044   \n",
       "relative_humidity_3pm    1095    35.34472714825902   22.52407945358728   \n",
       "\n",
       "                                         3                   4  \n",
       "summary                                min                 max  \n",
       "number                                   0                1094  \n",
       "air_pressure_9am         907.9900000000024   929.3200000000012  \n",
       "air_temp_9am            36.752000000000685   98.90599999999992  \n",
       "avg_wind_direction_9am  15.500000000000046               343.4  \n",
       "avg_wind_speed_9am        0.69345139999974  23.554978199999763  \n",
       "max_wind_direction_9am   28.89999999999991  312.19999999999993  \n",
       "max_wind_speed_9am      1.1855782000000479   29.84077959999996  \n",
       "rain_accumulation_9am                  0.0   24.01999999999907  \n",
       "rain_duration_9am                      0.0             17704.0  \n",
       "relative_humidity_9am    6.090000000001012    92.6200000000002  \n",
       "relative_humidity_3pm   5.3000000000006855    92.2500000000003  "
      ]
     },
     "execution_count": 6,
     "metadata": {},
     "output_type": "execute_result"
    }
   ],
   "source": [
    "df.describe().toPandas().transpose()"
   ]
  },
  {
   "cell_type": "code",
   "execution_count": 7,
   "metadata": {
    "collapsed": false
   },
   "outputs": [
    {
     "name": "stdout",
     "output_type": "stream",
     "text": [
      "+-------+------------------+\n",
      "|summary|  air_pressure_9am|\n",
      "+-------+------------------+\n",
      "|  count|              1092|\n",
      "|   mean| 918.8825513138097|\n",
      "| stddev|3.1841611803868353|\n",
      "|    min| 907.9900000000024|\n",
      "|    max| 929.3200000000012|\n",
      "+-------+------------------+\n",
      "\n"
     ]
    }
   ],
   "source": [
    "df.describe('air_pressure_9am').show()"
   ]
  },
  {
   "cell_type": "code",
   "execution_count": 8,
   "metadata": {
    "collapsed": false
   },
   "outputs": [
    {
     "data": {
      "text/plain": [
       "11"
      ]
     },
     "execution_count": 8,
     "metadata": {},
     "output_type": "execute_result"
    }
   ],
   "source": [
    "len(df.columns)"
   ]
  },
  {
   "cell_type": "code",
   "execution_count": 9,
   "metadata": {
    "collapsed": false
   },
   "outputs": [
    {
     "data": {
      "text/plain": [
       "1095"
      ]
     },
     "execution_count": 9,
     "metadata": {},
     "output_type": "execute_result"
    }
   ],
   "source": [
    "df.count()"
   ]
  },
  {
   "cell_type": "code",
   "execution_count": 10,
   "metadata": {
    "collapsed": true
   },
   "outputs": [],
   "source": [
    "df2 = df.na.drop(subset=['air_pressure_9am'])"
   ]
  },
  {
   "cell_type": "code",
   "execution_count": 11,
   "metadata": {
    "collapsed": false
   },
   "outputs": [
    {
     "data": {
      "text/plain": [
       "1092"
      ]
     },
     "execution_count": 11,
     "metadata": {},
     "output_type": "execute_result"
    }
   ],
   "source": [
    "df2.count()"
   ]
  },
  {
   "cell_type": "code",
   "execution_count": 12,
   "metadata": {
    "collapsed": false
   },
   "outputs": [
    {
     "data": {
      "text/plain": [
       "0.7298253479609015"
      ]
     },
     "execution_count": 12,
     "metadata": {},
     "output_type": "execute_result"
    }
   ],
   "source": [
    "df2.stat.corr(\"rain_accumulation_9am\", \"rain_duration_9am\")"
   ]
  },
  {
   "cell_type": "code",
   "execution_count": null,
   "metadata": {
    "collapsed": true
   },
   "outputs": [],
   "source": []
  }
 ],
 "metadata": {
  "kernelspec": {
   "display_name": "Python 3",
   "language": "python",
   "name": "python3"
  },
  "language_info": {
   "codemirror_mode": {
    "name": "ipython",
    "version": 3
   },
   "file_extension": ".py",
   "mimetype": "text/x-python",
   "name": "python",
   "nbconvert_exporter": "python",
   "pygments_lexer": "ipython3",
   "version": "3.5.1"
  }
 },
 "nbformat": 4,
 "nbformat_minor": 0
}
